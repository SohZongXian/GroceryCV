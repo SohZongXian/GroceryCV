{
 "cells": [
  {
   "cell_type": "code",
   "execution_count": null,
   "id": "874fe962-f6b9-4934-9736-1da78007a4de",
   "metadata": {},
   "outputs": [],
   "source": [
    "%reload_ext autoreload\n",
    "%autoreload 2\n",
    "%matplotlib inline"
   ]
  },
  {
   "cell_type": "code",
   "execution_count": null,
   "id": "323fb6c8-0ad6-4ecf-9032-862e167b61a0",
   "metadata": {},
   "outputs": [],
   "source": [
    "import fastai\n",
    "fastai.__version__"
   ]
  },
  {
   "cell_type": "code",
   "execution_count": null,
   "id": "b12286a7-e0bc-4920-98a6-c84c3c6e0987",
   "metadata": {},
   "outputs": [],
   "source": [
    "import pandas as pd \n",
    "import numpy as np \n",
    "import matplotlib.pyplot as plt\n",
    "from fastai.imports import *\n",
    "from fastai.vision import *\n",
    "# from fastai.vision.all import *"
   ]
  },
  {
   "cell_type": "code",
   "execution_count": null,
   "id": "25e33cfa-6f69-498b-8f3f-75f173dcee68",
   "metadata": {},
   "outputs": [],
   "source": [
    "#checking path\n",
    "base_path = 'C:/Users/user/Documents/GitHub/GroceryCV/GroceryStoreDataset-master/dataset'\n",
    "p_path=Path(base_path)\n",
    "\n",
    "train_path = base_path+'/train'\n",
    "test_path = base_path+'/test'"
   ]
  },
  {
   "cell_type": "code",
   "execution_count": null,
   "id": "14cc24f2-0290-4909-957e-58df3073a71e",
   "metadata": {},
   "outputs": [],
   "source": [
    "data = ImageDataBunch.from_folder(path = p_path,\n",
    "                                 train = 'train',\n",
    "                                 valid = 'test',\n",
    "                                 seed = 42,\n",
    "                                 ds_tfms = get_transforms(),\n",
    "                                 bs = 50,\n",
    "                                 size = 150)\n",
    "data.normalize(imagenet_stats)"
   ]
  },
  {
   "cell_type": "code",
   "execution_count": null,
   "id": "fb604fa9-4f47-4243-b088-a0d41ac2d8d5",
   "metadata": {},
   "outputs": [],
   "source": [
    "data.show_batch(rows = 2, figsize = (12,10))"
   ]
  },
  {
   "cell_type": "code",
   "execution_count": null,
   "id": "b9b9b864-5500-4bd2-895a-2d6c8d5e1017",
   "metadata": {},
   "outputs": [],
   "source": [
    "learn = cnn_learner(data, models.resnet34, metrics=error_rate)"
   ]
  },
  {
   "cell_type": "code",
   "execution_count": null,
   "id": "45bcd107-cc6d-446b-9f65-a8724f65752a",
   "metadata": {},
   "outputs": [],
   "source": [
    "start = time.time()\n",
    "learn.fit_one_cycle(10)\n",
    "end = time.time()\n",
    "print(\"Time taken:\", end - start)"
   ]
  },
  {
   "cell_type": "code",
   "execution_count": null,
   "id": "e564956c-59ce-4732-908f-6fa0f4f84c9d",
   "metadata": {},
   "outputs": [],
   "source": []
  }
 ],
 "metadata": {
  "kernelspec": {
   "display_name": "Python 3",
   "language": "python",
   "name": "python3"
  },
  "language_info": {
   "codemirror_mode": {
    "name": "ipython",
    "version": 3
   },
   "file_extension": ".py",
   "mimetype": "text/x-python",
   "name": "python",
   "nbconvert_exporter": "python",
   "pygments_lexer": "ipython3",
   "version": "3.8.8"
  }
 },
 "nbformat": 4,
 "nbformat_minor": 5
}
