{
 "cells": [
  {
   "cell_type": "code",
   "execution_count": null,
   "id": "b4fb0464-f179-4d94-a4cc-649deb7342e7",
   "metadata": {},
   "outputs": [],
   "source": [
    "#Image preprocessing/class classification\n",
    "import os\n",
    "classes = []\n",
    "\n",
    "class_dir = \"C:/Users/user/Documents/GitHub/GroceryCV/GroceryStoreDataset-master/dataset/test/\"\n",
    "\n",
    "for i, classname in enumerate(os.listdir(class_dir)):\n",
    "    print(classname)\n",
    "    classes.append(classname)\n",
    "\n",
    "\n",
    "os.getcwd()\n",
    "for c in classes:\n",
    "    collection = \"C:/Users/user/Documents/GitHub/GroceryCV/GroceryStoreDataset-master/dataset/test/\" + c\n",
    "    print(collection)\n",
    "    for i, filename in enumerate(os.listdir(collection)):\n",
    "        if(collection+\"/\"+ c + \"_\" + str(i) + \".jpg\"):\n",
    "            print(\"True\")\n",
    "            continue\n",
    "        os.rename(\"C:/Users/user/Documents/GitHub/GroceryCV/GroceryStoreDataset-master/dataset/test/\" + c + \"/\" + filename, \"C:/Users/user/Documents/GitHub/GroceryCV/GroceryStoreDataset-master/dataset/test/\" + c + \"/\" + c + \"_\" + str(i) + \".jpg\")"
   ]
  },
  {
   "cell_type": "code",
   "execution_count": null,
   "id": "c44f68cb-9859-4890-ac54-05ccde94eaf1",
   "metadata": {},
   "outputs": [],
   "source": []
  }
 ],
 "metadata": {
  "kernelspec": {
   "display_name": "Python 3",
   "language": "python",
   "name": "python3"
  },
  "language_info": {
   "codemirror_mode": {
    "name": "ipython",
    "version": 3
   },
   "file_extension": ".py",
   "mimetype": "text/x-python",
   "name": "python",
   "nbconvert_exporter": "python",
   "pygments_lexer": "ipython3",
   "version": "3.8.8"
  }
 },
 "nbformat": 4,
 "nbformat_minor": 5
}
