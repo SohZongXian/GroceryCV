{
 "cells": [
  {
   "cell_type": "code",
   "execution_count": null,
   "id": "b4fb0464-f179-4d94-a4cc-649deb7342e7",
   "metadata": {},
   "outputs": [],
   "source": [
    "#Image preprocessing/class classification\n",
    "import os\n",
    "classes = []\n",
    "\n",
    "class_dir = \"C:/Users/user/Documents/GitHub/GroceryCV/GroceryStoreDataset-master/dataset/train/\"\n",
    "\n",
    "for i, classname in enumerate(os.listdir(class_dir)):\n",
    "    print(classname)\n",
    "    classes.append(classname)\n",
    "\n",
    "\n",
    "os.getcwd()\n",
    "for c in classes:\n",
    "    collection = \"C:/Users/user/Documents/GitHub/GroceryCV/GroceryStoreDataset-master/dataset/train/\" + c\n",
    "    for i, filename in enumerate(os.listdir(collection)):\n",
    "        if(collection+\"/\"+ c + \"_\" + str(i) + \".jpg\" == collection+\"/\"+filename or collection+\"/\"+ c + \"_0\" + str(i) + \".jpg\" == collection+\"/\"+filename):\n",
    "            print(collection+\"/\"+filename)\n",
    "            continue\n",
    "        if(i<10):\n",
    "            os.rename(\"C:/Users/user/Documents/GitHub/GroceryCV/GroceryStoreDataset-master/dataset/train/\" + c + \"/\" + filename, \"C:/Users/user/Documents/GitHub/GroceryCV/GroceryStoreDataset-master/dataset/train/\" + c + \"/\" + c + \"_0\" + str(i) + \".jpg\")\n",
    "        else:\n",
    "            os.rename(\"C:/Users/user/Documents/GitHub/GroceryCV/GroceryStoreDataset-master/dataset/train/\" + c + \"/\" + filename, \"C:/Users/user/Documents/GitHub/GroceryCV/GroceryStoreDataset-master/dataset/train/\" + c + \"/\" + c + \"_\" + str(i) + \".jpg\")\n",
    "        "
   ]
  },
  {
   "cell_type": "code",
   "execution_count": 12,
   "id": "1ee9f8d6-d2b6-49c3-aa1c-e0b7a6b8feb6",
   "metadata": {},
   "outputs": [],
   "source": [
    "import os"
   ]
  },
  {
   "cell_type": "code",
   "execution_count": 16,
   "id": "d7a5a2a1-4950-446a-a276-0635a233df58",
   "metadata": {},
   "outputs": [],
   "source": [
    "from keras.preprocessing.image import ImageDataGenerator, array_to_img, img_to_array, load_img\n",
    "\n",
    "datagen = ImageDataGenerator(rotation_range=40,\n",
    "                             rescale = 1./255,\n",
    "                             width_shift_range=0.2,\n",
    "                            height_shift_range=0.2,\n",
    "                            shear_range=0.2,\n",
    "                            zoom_range=0.2,\n",
    "                            horizontal_flip=True\n",
    "                           )"
   ]
  },
  {
   "cell_type": "code",
   "execution_count": 21,
   "id": "53c37e93-2d10-4804-b384-f4c6feb4f9bf",
   "metadata": {},
   "outputs": [],
   "source": []
  },
  {
   "cell_type": "code",
   "execution_count": 26,
   "id": "86a5547c-c5d0-4538-b8af-d9f3dfcfb239",
   "metadata": {},
   "outputs": [
    {
     "name": "stdout",
     "output_type": "stream",
     "text": [
      "Found 554 images belonging to 36 classes.\n",
      "Found 36 images belonging to 35 classes.\n"
     ]
    }
   ],
   "source": [
    "training_set = datagen.flow_from_directory('C:/Users/user/Documents/GitHub/GroceryCV/GroceryStoreDataset-master/dataset/train_aug',\n",
    "                                          batch_size=32,\n",
    "                                           target_size = (64,64),\n",
    "                                          class_mode='binary')\n",
    "\n",
    "\n",
    "test_datagen = ImageDataGenerator(rescale = 1./255)\n",
    "test_set = test_datagen.flow_from_directory('C:/Users/user/Documents/GitHub/GroceryCV/GroceryStoreDataset-master/dataset/test',\n",
    "                                          batch_size=32,\n",
    "                                        target_size = (64,64),\n",
    "                                          class_mode='binary')"
   ]
  },
  {
   "cell_type": "markdown",
   "id": "26ee1f31-45a1-4cbf-bbe8-fcd62a152df1",
   "metadata": {},
   "source": [
    "## Testing Manual image augmentation"
   ]
  },
  {
   "cell_type": "code",
   "execution_count": 4,
   "id": "9a884801-7167-4141-b651-97e96da5efdd",
   "metadata": {},
   "outputs": [],
   "source": [
    "img_dir = \"C:/Users/user/Documents/GitHub/GroceryCV/GroceryStoreDataset-master/dataset/test/Apple_Aug/Apple_01.jpg\""
   ]
  },
  {
   "cell_type": "code",
   "execution_count": 5,
   "id": "03df9700-94eb-4d56-9f2e-48be3a7a74af",
   "metadata": {},
   "outputs": [],
   "source": [
    "img = load_img(img_dir)\n",
    "\n",
    "x=img_to_array(img)"
   ]
  },
  {
   "cell_type": "code",
   "execution_count": 6,
   "id": "9bb14104-eee9-4fcc-8f33-e06dc6897e18",
   "metadata": {},
   "outputs": [
    {
     "data": {
      "text/plain": [
       "(464, 348, 3)"
      ]
     },
     "execution_count": 6,
     "metadata": {},
     "output_type": "execute_result"
    }
   ],
   "source": [
    "x.shape"
   ]
  },
  {
   "cell_type": "code",
   "execution_count": 7,
   "id": "a5f3efd1-bc12-408a-b491-8b349202b2d2",
   "metadata": {},
   "outputs": [],
   "source": [
    "x = x.reshape((1,)+x.shape)"
   ]
  },
  {
   "cell_type": "code",
   "execution_count": 8,
   "id": "1dcbbc1b-e134-423f-93d0-2048921d6bd3",
   "metadata": {},
   "outputs": [],
   "source": [
    "save_dir = \"C:/Users/user/Documents/GitHub/GroceryCV/GroceryStoreDataset-master/dataset/test/Apple_Aug\""
   ]
  },
  {
   "cell_type": "code",
   "execution_count": null,
   "id": "fb07db65-27c7-41bf-b106-0242eaeb1886",
   "metadata": {},
   "outputs": [],
   "source": [
    "i = 0\n",
    "for batch in datagen.flow(x, batch_size=1, save_to_dir=save_dir, save_prefix='Apple_', save_format='jpeg'):\n",
    "    i+=1\n",
    "    if i>5:\n",
    "        break"
   ]
  },
  {
   "cell_type": "code",
   "execution_count": null,
   "id": "10782ad4-2daf-4ffe-abaf-ea768f63ebe4",
   "metadata": {},
   "outputs": [],
   "source": []
  }
 ],
 "metadata": {
  "kernelspec": {
   "display_name": "Python 3",
   "language": "python",
   "name": "python3"
  },
  "language_info": {
   "codemirror_mode": {
    "name": "ipython",
    "version": 3
   },
   "file_extension": ".py",
   "mimetype": "text/x-python",
   "name": "python",
   "nbconvert_exporter": "python",
   "pygments_lexer": "ipython3",
   "version": "3.8.8"
  }
 },
 "nbformat": 4,
 "nbformat_minor": 5
}
