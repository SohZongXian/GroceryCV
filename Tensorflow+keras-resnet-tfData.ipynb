{
 "cells": [
  {
   "cell_type": "markdown",
   "id": "de29b18e-6876-4f2c-a5b1-57d306e2e6d8",
   "metadata": {},
   "source": [
    "## Imports"
   ]
  },
  {
   "cell_type": "code",
   "execution_count": 1,
   "id": "46e2b123-c1a4-451f-a202-cddd059ba14f",
   "metadata": {},
   "outputs": [],
   "source": [
    "import os\n",
    "import time\n",
    "import tensorflow as tf\n",
    "from tensorflow.keras.models import Sequential\n",
    "from tensorflow.keras.layers import Dense, Flatten, Conv2D\n",
    "from tensorflow.keras.losses import sparse_categorical_crossentropy, binary_crossentropy\n",
    "from tensorflow.keras.optimizers import Adam\n",
    "import matplotlib.pyplot as plt\n",
    "from keras.models import Sequential\n",
    "from keras.layers import Convolution2D, Activation, MaxPooling2D, Dense\n",
    "from tensorflow.keras.layers import Input, Lambda, Dense, Flatten\n",
    "from tensorflow.keras.models import Model\n",
    "from tensorflow.keras.applications.resnet50 import ResNet50"
   ]
  },
  {
   "cell_type": "markdown",
   "id": "9b9ca7cd-2447-4d93-aa9f-6d93819c91cc",
   "metadata": {},
   "source": [
    "## Datagen object creation"
   ]
  },
  {
   "cell_type": "code",
   "execution_count": 2,
   "id": "d7a5a2a1-4950-446a-a276-0635a233df58",
   "metadata": {},
   "outputs": [],
   "source": [
    "from keras.preprocessing.image import ImageDataGenerator, array_to_img, img_to_array, load_img\n",
    "##image aug datagen\n",
    "datagen_aug = tf.keras.preprocessing.image.ImageDataGenerator(\n",
    "    rescale = 1./255., # Rescaling\n",
    "    rotation_range = 40, # for augmentation\n",
    "    width_shift_range = 0.2,\n",
    "    height_shift_range = 0.2,\n",
    "    shear_range = 0.2,\n",
    "    zoom_range = 0.2,\n",
    "    horizontal_flip = True\n",
    ")\n",
    "\n",
    "test_datagen = ImageDataGenerator(rescale = 1./255)\n",
    "\n",
    "train_dir = 'C:/Users/user/Documents/GitHub/GroceryCV/GroceryStoreDataset-master/dataset/train'\n",
    "test_dir = 'C:/Users/user/Documents/GitHub/GroceryCV/GroceryStoreDataset-master/dataset/test'"
   ]
  },
  {
   "cell_type": "code",
   "execution_count": 3,
   "id": "c0576285-8c8c-4b00-94f9-13535c0c865b",
   "metadata": {},
   "outputs": [],
   "source": [
    "image_size = [256, 256]"
   ]
  },
  {
   "cell_type": "code",
   "execution_count": 4,
   "id": "e1d2a7b2-591b-434a-8e5a-a24c90e2e169",
   "metadata": {},
   "outputs": [
    {
     "name": "stdout",
     "output_type": "stream",
     "text": [
      "Found 1239 images belonging to 34 classes.\n"
     ]
    }
   ],
   "source": [
    "images, labels = next(datagen_aug.flow_from_directory(train_dir))"
   ]
  },
  {
   "cell_type": "code",
   "execution_count": 5,
   "id": "748a8e57-9f99-4039-a221-b662f1063755",
   "metadata": {},
   "outputs": [
    {
     "name": "stdout",
     "output_type": "stream",
     "text": [
      "float32 (32, 256, 256, 3)\n",
      "float32 (32, 34)\n"
     ]
    }
   ],
   "source": [
    "print(images.dtype, images.shape)\n",
    "print(labels.dtype, labels.shape)"
   ]
  },
  {
   "cell_type": "markdown",
   "id": "e7aca55d-3b3c-4e12-9b0a-c9ba9e3da940",
   "metadata": {},
   "source": [
    "## Getting test and train len"
   ]
  },
  {
   "cell_type": "code",
   "execution_count": null,
   "id": "13d19f13-ddb0-4935-8086-fc4fb371d619",
   "metadata": {},
   "outputs": [],
   "source": [
    "train_image_ds = tf.data.Dataset.list_files(train_dir+ '/*/*', shuffle=False)\n",
    "test_image_ds = tf.data.Dataset.list_files(test_dir + '/*/*', shuffle=False)"
   ]
  },
  {
   "cell_type": "code",
   "execution_count": null,
   "id": "dc06539d-c9ec-4d5e-bd15-45fbbae93a1a",
   "metadata": {},
   "outputs": [],
   "source": [
    "test_img_count=len(test_image_ds)\n",
    "train_img_count = len(train_image_ds)"
   ]
  },
  {
   "cell_type": "markdown",
   "id": "eb4dae8d-2f81-428c-879a-2f5274135515",
   "metadata": {},
   "source": [
    "## Loading image with optimized data pipeline"
   ]
  },
  {
   "cell_type": "code",
   "execution_count": null,
   "id": "db0bbe65-c840-42ca-9968-a9b33414961b",
   "metadata": {},
   "outputs": [],
   "source": [
    "training_set = tf.data.Dataset.from_generator(\n",
    "    lambda: datagen_aug.flow_from_directory(train_dir), \n",
    "    output_types=(tf.float32, tf.float32), \n",
    "    output_shapes=([None,256,256,3], [None,34])\n",
    ")\n",
    "\n",
    "training_set.element_spec"
   ]
  },
  {
   "cell_type": "code",
   "execution_count": null,
   "id": "bfdc758a-7230-49e0-98b4-9b24636d5c62",
   "metadata": {},
   "outputs": [],
   "source": [
    "test_set = tf.data.Dataset.from_generator(\n",
    "    lambda: test_datagen.flow_from_directory(test_dir), \n",
    "    output_types=(tf.float32, tf.float32), \n",
    "    output_shapes=([None,256,256,3], [None,34])\n",
    ")\n",
    "\n",
    "test_set.element_spec"
   ]
  },
  {
   "cell_type": "markdown",
   "id": "ed9045be-65dc-45c1-9486-ac38ca4ee219",
   "metadata": {},
   "source": [
    "## Build Model"
   ]
  },
  {
   "cell_type": "code",
   "execution_count": null,
   "id": "1f792bf8-f447-4d0a-a987-34c447f3ce20",
   "metadata": {},
   "outputs": [],
   "source": [
    "resnet = tf.keras.applications.ResNet50V2(\n",
    "    input_shape=image_size + [3],\n",
    "    include_top=False,\n",
    "    weights=\"imagenet\",\n",
    "#     input_tensor=None,\n",
    "#     input_shape=None,\n",
    "#     pooling=None,\n",
    "#     classes=1000,\n",
    "#     classifier_activation=\"softmax\",\n",
    ")"
   ]
  },
  {
   "cell_type": "code",
   "execution_count": null,
   "id": "fefce077-deae-4a47-9c4c-ab394f65d43f",
   "metadata": {},
   "outputs": [],
   "source": [
    "for layer in resnet.layers:\n",
    "    layer.trainable = False"
   ]
  },
  {
   "cell_type": "code",
   "execution_count": null,
   "id": "81f196da-2db4-4551-8519-10151d4c3a4e",
   "metadata": {},
   "outputs": [],
   "source": [
    "x = Flatten()(resnet.output)"
   ]
  },
  {
   "cell_type": "code",
   "execution_count": null,
   "id": "95ec85a6-53c0-4fb2-ac24-4d7ddeb0f992",
   "metadata": {},
   "outputs": [],
   "source": [
    "prediction = Dense(len(labels)+2, activation='softmax')(x)\n",
    "\n",
    "model = Model(inputs=resnet.input, outputs=prediction)"
   ]
  },
  {
   "cell_type": "code",
   "execution_count": null,
   "id": "0baf82f6-ce1b-4934-a7e6-045d6802bfd0",
   "metadata": {},
   "outputs": [],
   "source": [
    "model.summary()"
   ]
  },
  {
   "cell_type": "code",
   "execution_count": null,
   "id": "eb9c025c-278d-4221-886c-2b73dccf4fe3",
   "metadata": {},
   "outputs": [],
   "source": [
    "model.compile(\n",
    "  loss='categorical_crossentropy',\n",
    "  optimizer='adam',\n",
    "  metrics=['accuracy']\n",
    ")"
   ]
  },
  {
   "cell_type": "code",
   "execution_count": null,
   "id": "0ca045d6-e5f3-4674-9efb-ee5e3ce74218",
   "metadata": {},
   "outputs": [],
   "source": [
    "start = time.time()\n",
    "history = model.fit_generator(\n",
    "  training_set,\n",
    "  validation_data=test_set,\n",
    "  epochs=10,\n",
    "  steps_per_epoch=train_img_count,\n",
    "  validation_steps=test_img_count\n",
    ")\n",
    "end = time.time()\n",
    "print(\"Time taken:\", end - start)"
   ]
  },
  {
   "cell_type": "code",
   "execution_count": null,
   "id": "31de3e09-6bfe-46c7-bf38-6900892b06ff",
   "metadata": {},
   "outputs": [],
   "source": [
    "\n",
    "# plot the loss\n",
    "# plt.plot(r.history['loss'], label='train loss')\n",
    "# plt.plot(r.history['val_loss'], label='val loss')\n",
    "# plt.legend()\n",
    "# plt.show()\n",
    "# plt.savefig('LossVal_loss')\n",
    "\n",
    "# # plot the accuracy\n",
    "# plt.plot(r.history['accuracy'], label='train acc')\n",
    "# plt.plot(r.history['val_accuracy'], label='val acc')\n",
    "# plt.legend()\n",
    "# plt.show()\n",
    "# plt.savefig('AccVal_acc')"
   ]
  },
  {
   "cell_type": "code",
   "execution_count": null,
   "id": "4f7d3615-55ab-495c-af4e-1ef73486bee1",
   "metadata": {},
   "outputs": [],
   "source": []
  }
 ],
 "metadata": {
  "kernelspec": {
   "display_name": "Python 3",
   "language": "python",
   "name": "python3"
  },
  "language_info": {
   "codemirror_mode": {
    "name": "ipython",
    "version": 3
   },
   "file_extension": ".py",
   "mimetype": "text/x-python",
   "name": "python",
   "nbconvert_exporter": "python",
   "pygments_lexer": "ipython3",
   "version": "3.8.8"
  }
 },
 "nbformat": 4,
 "nbformat_minor": 5
}
