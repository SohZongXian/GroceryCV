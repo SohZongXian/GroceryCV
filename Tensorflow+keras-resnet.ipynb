{
 "cells": [
  {
   "cell_type": "markdown",
   "id": "de29b18e-6876-4f2c-a5b1-57d306e2e6d8",
   "metadata": {},
   "source": [
    "## Imports"
   ]
  },
  {
   "cell_type": "code",
   "execution_count": null,
   "id": "46e2b123-c1a4-451f-a202-cddd059ba14f",
   "metadata": {},
   "outputs": [],
   "source": [
    "import os\n",
    "import time\n",
    "import tensorflow as tf\n",
    "from tensorflow.keras.models import Sequential\n",
    "from tensorflow.keras.layers import Dense, Flatten, Conv2D\n",
    "from tensorflow.keras.losses import sparse_categorical_crossentropy, binary_crossentropy\n",
    "from tensorflow.keras.optimizers import Adam\n",
    "import matplotlib.pyplot as plt\n",
    "from keras.models import Sequential\n",
    "from keras.layers import Convolution2D, Activation, MaxPooling2D, Dense\n",
    "from tensorflow.keras.layers import Input, Lambda, Dense, Flatten\n",
    "from tensorflow.keras.models import Model\n",
    "from tensorflow.keras.applications.resnet50 import ResNet50"
   ]
  },
  {
   "cell_type": "markdown",
   "id": "9b9ca7cd-2447-4d93-aa9f-6d93819c91cc",
   "metadata": {},
   "source": [
    "## Datagen object creation"
   ]
  },
  {
   "cell_type": "code",
   "execution_count": null,
   "id": "d7a5a2a1-4950-446a-a276-0635a233df58",
   "metadata": {},
   "outputs": [],
   "source": [
    "from keras.preprocessing.image import ImageDataGenerator, array_to_img, img_to_array, load_img\n",
    "##image aug datagen\n",
    "datagen_aug = tf.keras.preprocessing.image.ImageDataGenerator(\n",
    "    rescale = 1./255., # Rescaling\n",
    "    rotation_range = 40, # for augmentation\n",
    "    width_shift_range = 0.2,\n",
    "    height_shift_range = 0.2,\n",
    "    shear_range = 0.2,\n",
    "    zoom_range = 0.2,\n",
    "    horizontal_flip = True\n",
    ")\n",
    "\n",
    "test_datagen = ImageDataGenerator(rescale = 1./255)\n",
    "\n",
    "train_dir = 'C:/Users/user/Documents/GitHub/GroceryCV/GroceryStoreDataset-master/dataset/train'\n",
    "test_dir = 'C:/Users/user/Documents/GitHub/GroceryCV/GroceryStoreDataset-master/dataset/test'"
   ]
  },
  {
   "cell_type": "markdown",
   "id": "b201622d-52f3-4ee3-aa56-5ec0363068c9",
   "metadata": {},
   "source": [
    "## Loading image without optimized data pipeline\n"
   ]
  },
  {
   "cell_type": "code",
   "execution_count": null,
   "id": "e22b2684-c6c5-4f3b-adc9-c926324c9296",
   "metadata": {},
   "outputs": [],
   "source": [
    "image_size = [256, 256]"
   ]
  },
  {
   "cell_type": "code",
   "execution_count": null,
   "id": "53c37e93-2d10-4804-b384-f4c6feb4f9bf",
   "metadata": {},
   "outputs": [],
   "source": [
    "##augmented datagen\n",
    "training_set = datagen_aug.flow_from_directory('C:/Users/user/Documents/GitHub/GroceryCV/GroceryStoreDataset-master/dataset/train',\n",
    "                                          batch_size=64,\n",
    "                                           target_size = image_size,\n",
    "                                            shuffle=True,\n",
    "                                          class_mode='categorical')"
   ]
  },
  {
   "cell_type": "code",
   "execution_count": null,
   "id": "c15f5b7b-78d0-414a-8586-ed2245bca238",
   "metadata": {},
   "outputs": [],
   "source": [
    "##plot images\n",
    "def plotImages(images_arr):\n",
    "    fig, axes = plt.subplots(1, 5, figsize=(20,20))\n",
    "    axes = axes.flatten()\n",
    "    for img, ax in zip( images_arr, axes):\n",
    "        ax.imshow(img)\n",
    "    plt.tight_layout()\n",
    "    plt.show()\n",
    "    \n",
    "    \n",
    "augmented_images = [training_set[0][0][0] for i in range(10)]\n",
    "plotImages(augmented_images)"
   ]
  },
  {
   "cell_type": "code",
   "execution_count": null,
   "id": "86a5547c-c5d0-4538-b8af-d9f3dfcfb239",
   "metadata": {},
   "outputs": [],
   "source": [
    "test_datagen = ImageDataGenerator(rescale = 1./255)\n",
    "test_set = test_datagen.flow_from_directory('C:/Users/user/Documents/GitHub/GroceryCV/GroceryStoreDataset-master/dataset/test',\n",
    "                                          batch_size=32,\n",
    "                                        target_size = image_size,\n",
    "                                          class_mode='categorical')"
   ]
  },
  {
   "cell_type": "code",
   "execution_count": null,
   "id": "688ae318-1da3-4b23-8336-c4cf5c99d6da",
   "metadata": {},
   "outputs": [],
   "source": [
    "augmented_images = [test_set[0][0][0] for i in range(10)]\n",
    "plotImages(augmented_images)"
   ]
  },
  {
   "cell_type": "code",
   "execution_count": null,
   "id": "c680930a-2900-40b5-b4f2-883179338b8d",
   "metadata": {},
   "outputs": [],
   "source": [
    "labels = (training_set.class_indices)\n",
    "labels"
   ]
  },
  {
   "cell_type": "code",
   "execution_count": null,
   "id": "d0c78013-2c95-48df-b2a5-0e29700b6e75",
   "metadata": {},
   "outputs": [],
   "source": [
    "len(labels)"
   ]
  },
  {
   "cell_type": "markdown",
   "id": "ed9045be-65dc-45c1-9486-ac38ca4ee219",
   "metadata": {},
   "source": [
    "## Build Model"
   ]
  },
  {
   "cell_type": "code",
   "execution_count": null,
   "id": "1f792bf8-f447-4d0a-a987-34c447f3ce20",
   "metadata": {},
   "outputs": [],
   "source": [
    "resnet = tf.keras.applications.ResNet50V2(\n",
    "    input_shape=image_size + [3],\n",
    "    include_top=False,\n",
    "    weights=\"imagenet\",\n",
    "#     input_tensor=None,\n",
    "#     input_shape=None,\n",
    "#     pooling=None,\n",
    "#     classes=1000,\n",
    "#     classifier_activation=\"softmax\",\n",
    ")"
   ]
  },
  {
   "cell_type": "code",
   "execution_count": null,
   "id": "fefce077-deae-4a47-9c4c-ab394f65d43f",
   "metadata": {},
   "outputs": [],
   "source": [
    "for layer in resnet.layers:\n",
    "    layer.trainable = False"
   ]
  },
  {
   "cell_type": "code",
   "execution_count": null,
   "id": "81f196da-2db4-4551-8519-10151d4c3a4e",
   "metadata": {},
   "outputs": [],
   "source": [
    "x = Flatten()(resnet.output)"
   ]
  },
  {
   "cell_type": "code",
   "execution_count": null,
   "id": "95ec85a6-53c0-4fb2-ac24-4d7ddeb0f992",
   "metadata": {},
   "outputs": [],
   "source": [
    "prediction = Dense(len(labels), activation='softmax')(x)\n",
    "\n",
    "model = Model(inputs=resnet.input, outputs=prediction)"
   ]
  },
  {
   "cell_type": "code",
   "execution_count": null,
   "id": "0baf82f6-ce1b-4934-a7e6-045d6802bfd0",
   "metadata": {},
   "outputs": [],
   "source": [
    "model.summary()"
   ]
  },
  {
   "cell_type": "code",
   "execution_count": null,
   "id": "eb9c025c-278d-4221-886c-2b73dccf4fe3",
   "metadata": {},
   "outputs": [],
   "source": [
    "model.compile(\n",
    "  loss='categorical_crossentropy',\n",
    "  optimizer='adam',\n",
    "  metrics=['accuracy']\n",
    ")"
   ]
  },
  {
   "cell_type": "code",
   "execution_count": null,
   "id": "0ca045d6-e5f3-4674-9efb-ee5e3ce74218",
   "metadata": {},
   "outputs": [],
   "source": [
    "start = time.time()\n",
    "history = model.fit_generator(\n",
    "  training_set,\n",
    "  validation_data=test_set,\n",
    "  epochs=10,\n",
    "  steps_per_epoch=len(training_set),\n",
    "  validation_steps=len(test_set)\n",
    ")\n",
    "end = time.time()\n",
    "print(\"Time taken:\", end - start)"
   ]
  },
  {
   "cell_type": "code",
   "execution_count": null,
   "id": "31de3e09-6bfe-46c7-bf38-6900892b06ff",
   "metadata": {},
   "outputs": [],
   "source": [
    "\n",
    "# plot the loss\n",
    "# plt.plot(r.history['loss'], label='train loss')\n",
    "# plt.plot(r.history['val_loss'], label='val loss')\n",
    "# plt.legend()\n",
    "# plt.show()\n",
    "# plt.savefig('LossVal_loss')\n",
    "\n",
    "# # plot the accuracy\n",
    "# plt.plot(r.history['accuracy'], label='train acc')\n",
    "# plt.plot(r.history['val_accuracy'], label='val acc')\n",
    "# plt.legend()\n",
    "# plt.show()\n",
    "# plt.savefig('AccVal_acc')"
   ]
  },
  {
   "cell_type": "code",
   "execution_count": null,
   "id": "4f7d3615-55ab-495c-af4e-1ef73486bee1",
   "metadata": {},
   "outputs": [],
   "source": []
  }
 ],
 "metadata": {
  "kernelspec": {
   "display_name": "Python 3",
   "language": "python",
   "name": "python3"
  },
  "language_info": {
   "codemirror_mode": {
    "name": "ipython",
    "version": 3
   },
   "file_extension": ".py",
   "mimetype": "text/x-python",
   "name": "python",
   "nbconvert_exporter": "python",
   "pygments_lexer": "ipython3",
   "version": "3.8.8"
  }
 },
 "nbformat": 4,
 "nbformat_minor": 5
}
