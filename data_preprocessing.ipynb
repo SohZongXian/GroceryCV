{
 "cells": [
  {
   "cell_type": "markdown",
   "id": "de29b18e-6876-4f2c-a5b1-57d306e2e6d8",
   "metadata": {},
   "source": [
    "## Imports"
   ]
  },
  {
   "cell_type": "code",
   "execution_count": 5,
   "id": "46e2b123-c1a4-451f-a202-cddd059ba14f",
   "metadata": {},
   "outputs": [],
   "source": [
    "import os\n",
    "import shutil\n",
    "import glob\n",
    "from PIL import Image"
   ]
  },
  {
   "cell_type": "markdown",
   "id": "c3772289-d94b-446e-85c8-0fdd5f9f22c3",
   "metadata": {},
   "source": [
    "## Image preprocessing"
   ]
  },
  {
   "cell_type": "code",
   "execution_count": null,
   "id": "b5fd2f67-6626-4353-aa87-556d1353d4ca",
   "metadata": {},
   "outputs": [],
   "source": [
    "classes = []\n",
    "\n",
    "class_dir = \"C:/Users/user/Documents/GitHub/GroceryCV/GroceryStoreDataset-master/dataset_pt/test/\"\n",
    "\n",
    "for i, classname in enumerate(os.listdir(class_dir)):\n",
    "    print(classname)\n",
    "    classes.append(classname)\n",
    "\n",
    "\n",
    "os.getcwd()\n",
    "for c in classes:\n",
    "    collection = \"C:/Users/user/Documents/GitHub/GroceryCV/GroceryStoreDataset-master/dataset_pt/test/\" + c\n",
    "    for i, filename in enumerate(os.listdir(collection)):\n",
    "        if(collection+\"/\"+ c + \"_\" + str(i) + \".jpg\" == collection+\"/\"+filename or collection+\"/\"+ c + \"_0\" + str(i) + \".jpg\" == collection+\"/\"+filename):\n",
    "            print(collection+\"/\"+filename)\n",
    "            continue\n",
    "        if(i<10):\n",
    "            os.rename(\"C:/Users/user/Documents/GitHub/GroceryCV/GroceryStoreDataset-master/dataset_pt/test/\" + c + \"/\" + filename, \"C:/Users/user/Documents/GitHub/GroceryCV/GroceryStoreDataset-master/dataset_pt/test/\" + c + \"/\" + c + \"_000\" + str(i) + \".jpg\")\n",
    "        else:\n",
    "            os.rename(\"C:/Users/user/Documents/GitHub/GroceryCV/GroceryStoreDataset-master/dataset_pt/test/\" + c + \"/\" + filename, \"C:/Users/user/Documents/GitHub/GroceryCV/GroceryStoreDataset-master/dataset_pt/test/\" + c + \"/\" + c + \"_00\" + str(i) + \".jpg\")\n",
    "        "
   ]
  },
  {
   "cell_type": "markdown",
   "id": "e2253f20-631c-4a52-ae20-acef3e4a6d06",
   "metadata": {},
   "source": [
    "## Class classification"
   ]
  },
  {
   "cell_type": "code",
   "execution_count": 6,
   "id": "2be0b252-2fbf-4591-9ccf-e4dc13540bb9",
   "metadata": {},
   "outputs": [],
   "source": [
    "def reduce_class(classes,grouped_class,data_source,main_dir):\n",
    "    for c in grouped_class:\n",
    "        path = os.path.join(main_dir,data_source)\n",
    "        print(path)\n",
    "        os.mkdir(path+c)\n",
    "        print(\"Directory '% s' created \" % path+c)\n",
    "    \n",
    "   \n",
    "    for c2 in classes:\n",
    "        ori = path + c2\n",
    "        if c2 in fruits:\n",
    "            target = main_dir + data_source + grouped_classes[0]\n",
    "            shutil.move(ori,target)\n",
    "        elif c2 in vegetables:\n",
    "            target = main_dir + data_source + grouped_classes[1]\n",
    "            shutil.move(ori,target)\n",
    "        else:\n",
    "            target = main_dir + data_source + grouped_classes[2]\n",
    "            shutil.move(ori,target) "
   ]
  },
  {
   "cell_type": "code",
   "execution_count": 7,
   "id": "9985ae1c-70dc-4f06-a245-d839a0477629",
   "metadata": {},
   "outputs": [],
   "source": [
    "def expand_class(grouped_class,data_source,main_dir):\n",
    "    new_classes = []\n",
    "    for g in grouped_class:\n",
    "        for i, classname in enumerate(os.listdir(main_dir+data_source+g)):\n",
    "            new_classes.append(classname)\n",
    "    \n",
    "    for c2 in new_classes:\n",
    "        if c2 in fruits:\n",
    "            ori = main_dir + data_source + grouped_classes[0] + '/' + c2\n",
    "            target = main_dir + data_source\n",
    "            print(ori)\n",
    "            print(target)\n",
    "            shutil.move(ori,target)\n",
    "        elif c2 in vegetables:\n",
    "            ori = main_dir + data_source + grouped_classes[1] + '/' + c2\n",
    "            target = main_dir + data_source\n",
    "            shutil.move(ori,target)\n",
    "        else:\n",
    "            ori = main_dir + data_source + grouped_classes[2] + '/' + c2\n",
    "            target = main_dir + data_source\n",
    "            print(ori)\n",
    "            print(target)\n",
    "            shutil.move(ori,target)\n",
    "    \n",
    "    for g in grouped_class:\n",
    "        os.rmdir(main_dir + data_source + g)\n",
    "            \n",
    "    "
   ]
  },
  {
   "cell_type": "markdown",
   "id": "2729d823-b70f-4d51-86e7-9858bccd85fb",
   "metadata": {},
   "source": [
    "### Folder Switch (tensorflow+keras)"
   ]
  },
  {
   "cell_type": "code",
   "execution_count": 8,
   "id": "44226e8b-9b6a-4728-ad05-e12a7e8947c1",
   "metadata": {},
   "outputs": [
    {
     "name": "stdout",
     "output_type": "stream",
     "text": [
      "C:/Users/user/Documents/GitHub/GroceryCV/GroceryStoreDataset-master/dataset/test/Fruit/Apple\n",
      "C:/Users/user/Documents/GitHub/GroceryCV/GroceryStoreDataset-master/dataset/test/\n",
      "C:/Users/user/Documents/GitHub/GroceryCV/GroceryStoreDataset-master/dataset/test/Fruit/Avocado\n",
      "C:/Users/user/Documents/GitHub/GroceryCV/GroceryStoreDataset-master/dataset/test/\n",
      "C:/Users/user/Documents/GitHub/GroceryCV/GroceryStoreDataset-master/dataset/test/Fruit/Banana\n",
      "C:/Users/user/Documents/GitHub/GroceryCV/GroceryStoreDataset-master/dataset/test/\n",
      "C:/Users/user/Documents/GitHub/GroceryCV/GroceryStoreDataset-master/dataset/test/Fruit/Kiwi\n",
      "C:/Users/user/Documents/GitHub/GroceryCV/GroceryStoreDataset-master/dataset/test/\n",
      "C:/Users/user/Documents/GitHub/GroceryCV/GroceryStoreDataset-master/dataset/test/Fruit/Lemon\n",
      "C:/Users/user/Documents/GitHub/GroceryCV/GroceryStoreDataset-master/dataset/test/\n",
      "C:/Users/user/Documents/GitHub/GroceryCV/GroceryStoreDataset-master/dataset/test/Fruit/Lime\n",
      "C:/Users/user/Documents/GitHub/GroceryCV/GroceryStoreDataset-master/dataset/test/\n",
      "C:/Users/user/Documents/GitHub/GroceryCV/GroceryStoreDataset-master/dataset/test/Fruit/Mango\n",
      "C:/Users/user/Documents/GitHub/GroceryCV/GroceryStoreDataset-master/dataset/test/\n",
      "C:/Users/user/Documents/GitHub/GroceryCV/GroceryStoreDataset-master/dataset/test/Fruit/Nectarine\n",
      "C:/Users/user/Documents/GitHub/GroceryCV/GroceryStoreDataset-master/dataset/test/\n",
      "C:/Users/user/Documents/GitHub/GroceryCV/GroceryStoreDataset-master/dataset/test/Fruit/Orange\n",
      "C:/Users/user/Documents/GitHub/GroceryCV/GroceryStoreDataset-master/dataset/test/\n",
      "C:/Users/user/Documents/GitHub/GroceryCV/GroceryStoreDataset-master/dataset/test/Fruit/Papaya\n",
      "C:/Users/user/Documents/GitHub/GroceryCV/GroceryStoreDataset-master/dataset/test/\n",
      "C:/Users/user/Documents/GitHub/GroceryCV/GroceryStoreDataset-master/dataset/test/Fruit/Passion-Fruit\n",
      "C:/Users/user/Documents/GitHub/GroceryCV/GroceryStoreDataset-master/dataset/test/\n",
      "C:/Users/user/Documents/GitHub/GroceryCV/GroceryStoreDataset-master/dataset/test/Fruit/Peach\n",
      "C:/Users/user/Documents/GitHub/GroceryCV/GroceryStoreDataset-master/dataset/test/\n",
      "C:/Users/user/Documents/GitHub/GroceryCV/GroceryStoreDataset-master/dataset/test/Fruit/Pear\n",
      "C:/Users/user/Documents/GitHub/GroceryCV/GroceryStoreDataset-master/dataset/test/\n",
      "C:/Users/user/Documents/GitHub/GroceryCV/GroceryStoreDataset-master/dataset/test/Fruit/Pineapple\n",
      "C:/Users/user/Documents/GitHub/GroceryCV/GroceryStoreDataset-master/dataset/test/\n",
      "C:/Users/user/Documents/GitHub/GroceryCV/GroceryStoreDataset-master/dataset/test/Fruit/Plum\n",
      "C:/Users/user/Documents/GitHub/GroceryCV/GroceryStoreDataset-master/dataset/test/\n",
      "C:/Users/user/Documents/GitHub/GroceryCV/GroceryStoreDataset-master/dataset/test/Packages/Juice\n",
      "C:/Users/user/Documents/GitHub/GroceryCV/GroceryStoreDataset-master/dataset/test/\n",
      "C:/Users/user/Documents/GitHub/GroceryCV/GroceryStoreDataset-master/dataset/test/Packages/Milk\n",
      "C:/Users/user/Documents/GitHub/GroceryCV/GroceryStoreDataset-master/dataset/test/\n",
      "C:/Users/user/Documents/GitHub/GroceryCV/GroceryStoreDataset-master/dataset/test/Packages/Sour-Milk\n",
      "C:/Users/user/Documents/GitHub/GroceryCV/GroceryStoreDataset-master/dataset/test/\n",
      "C:/Users/user/Documents/GitHub/GroceryCV/GroceryStoreDataset-master/dataset/test/Packages/Soy-Milk\n",
      "C:/Users/user/Documents/GitHub/GroceryCV/GroceryStoreDataset-master/dataset/test/\n",
      "C:/Users/user/Documents/GitHub/GroceryCV/GroceryStoreDataset-master/dataset/test/Packages/Yoghurt\n",
      "C:/Users/user/Documents/GitHub/GroceryCV/GroceryStoreDataset-master/dataset/test/\n",
      "C:/Users/user/Documents/GitHub/GroceryCV/GroceryStoreDataset-master/dataset/train/Fruit/Apple\n",
      "C:/Users/user/Documents/GitHub/GroceryCV/GroceryStoreDataset-master/dataset/train/\n",
      "C:/Users/user/Documents/GitHub/GroceryCV/GroceryStoreDataset-master/dataset/train/Fruit/Avocado\n",
      "C:/Users/user/Documents/GitHub/GroceryCV/GroceryStoreDataset-master/dataset/train/\n",
      "C:/Users/user/Documents/GitHub/GroceryCV/GroceryStoreDataset-master/dataset/train/Fruit/Banana\n",
      "C:/Users/user/Documents/GitHub/GroceryCV/GroceryStoreDataset-master/dataset/train/\n",
      "C:/Users/user/Documents/GitHub/GroceryCV/GroceryStoreDataset-master/dataset/train/Fruit/Kiwi\n",
      "C:/Users/user/Documents/GitHub/GroceryCV/GroceryStoreDataset-master/dataset/train/\n",
      "C:/Users/user/Documents/GitHub/GroceryCV/GroceryStoreDataset-master/dataset/train/Fruit/Lemon\n",
      "C:/Users/user/Documents/GitHub/GroceryCV/GroceryStoreDataset-master/dataset/train/\n",
      "C:/Users/user/Documents/GitHub/GroceryCV/GroceryStoreDataset-master/dataset/train/Fruit/Lime\n",
      "C:/Users/user/Documents/GitHub/GroceryCV/GroceryStoreDataset-master/dataset/train/\n",
      "C:/Users/user/Documents/GitHub/GroceryCV/GroceryStoreDataset-master/dataset/train/Fruit/Mango\n",
      "C:/Users/user/Documents/GitHub/GroceryCV/GroceryStoreDataset-master/dataset/train/\n",
      "C:/Users/user/Documents/GitHub/GroceryCV/GroceryStoreDataset-master/dataset/train/Fruit/Nectarine\n",
      "C:/Users/user/Documents/GitHub/GroceryCV/GroceryStoreDataset-master/dataset/train/\n",
      "C:/Users/user/Documents/GitHub/GroceryCV/GroceryStoreDataset-master/dataset/train/Fruit/Orange\n",
      "C:/Users/user/Documents/GitHub/GroceryCV/GroceryStoreDataset-master/dataset/train/\n",
      "C:/Users/user/Documents/GitHub/GroceryCV/GroceryStoreDataset-master/dataset/train/Fruit/Papaya\n",
      "C:/Users/user/Documents/GitHub/GroceryCV/GroceryStoreDataset-master/dataset/train/\n",
      "C:/Users/user/Documents/GitHub/GroceryCV/GroceryStoreDataset-master/dataset/train/Fruit/Passion-Fruit\n",
      "C:/Users/user/Documents/GitHub/GroceryCV/GroceryStoreDataset-master/dataset/train/\n",
      "C:/Users/user/Documents/GitHub/GroceryCV/GroceryStoreDataset-master/dataset/train/Fruit/Peach\n",
      "C:/Users/user/Documents/GitHub/GroceryCV/GroceryStoreDataset-master/dataset/train/\n",
      "C:/Users/user/Documents/GitHub/GroceryCV/GroceryStoreDataset-master/dataset/train/Fruit/Pear\n",
      "C:/Users/user/Documents/GitHub/GroceryCV/GroceryStoreDataset-master/dataset/train/\n",
      "C:/Users/user/Documents/GitHub/GroceryCV/GroceryStoreDataset-master/dataset/train/Fruit/Pineapple\n",
      "C:/Users/user/Documents/GitHub/GroceryCV/GroceryStoreDataset-master/dataset/train/\n",
      "C:/Users/user/Documents/GitHub/GroceryCV/GroceryStoreDataset-master/dataset/train/Fruit/Plum\n",
      "C:/Users/user/Documents/GitHub/GroceryCV/GroceryStoreDataset-master/dataset/train/\n",
      "C:/Users/user/Documents/GitHub/GroceryCV/GroceryStoreDataset-master/dataset/train/Packages/Juice\n",
      "C:/Users/user/Documents/GitHub/GroceryCV/GroceryStoreDataset-master/dataset/train/\n",
      "C:/Users/user/Documents/GitHub/GroceryCV/GroceryStoreDataset-master/dataset/train/Packages/Milk\n",
      "C:/Users/user/Documents/GitHub/GroceryCV/GroceryStoreDataset-master/dataset/train/\n",
      "C:/Users/user/Documents/GitHub/GroceryCV/GroceryStoreDataset-master/dataset/train/Packages/Sour-Milk\n",
      "C:/Users/user/Documents/GitHub/GroceryCV/GroceryStoreDataset-master/dataset/train/\n",
      "C:/Users/user/Documents/GitHub/GroceryCV/GroceryStoreDataset-master/dataset/train/Packages/Soy-Milk\n",
      "C:/Users/user/Documents/GitHub/GroceryCV/GroceryStoreDataset-master/dataset/train/\n",
      "C:/Users/user/Documents/GitHub/GroceryCV/GroceryStoreDataset-master/dataset/train/Packages/Yoghurt\n",
      "C:/Users/user/Documents/GitHub/GroceryCV/GroceryStoreDataset-master/dataset/train/\n"
     ]
    }
   ],
   "source": [
    "classes = []\n",
    "fruits = ['Apple','Avocado','Banana','Kiwi','Lime','Lemon','Mango','Melon','Nectarine','Orange','Papaya','Passion-Fruit','Peach','Pear','Pineapple','Plum']\n",
    "vegetables = ['Asparagus','Aubergine','Cabbage','Carrots','Cucumber','Garlic','Ginger','Leek','Mushroom','Onion','Pepper','Potato','Tomato','Zucchini']\n",
    "grouped_classes = ['Fruit','Vegetables','Packages']\n",
    "data_source = ['test/','train/','backup/']\n",
    "\n",
    "main_dir= \"C:/Users/user/Documents/GitHub/GroceryCV/GroceryStoreDataset-master/dataset/\"\n",
    "\n",
    "#get class from source folder\n",
    "for i, classname in enumerate(os.listdir(main_dir+data_source[1])):\n",
    "    classes.append(classname)\n",
    "    \n",
    "if len(classes) == 3:\n",
    "    for i in range(2):\n",
    "        expand_class(grouped_class=grouped_classes,data_source=data_source[i],main_dir=main_dir)\n",
    "else:\n",
    "    for i in range(2):\n",
    "        reduce_class(classes=classes,grouped_class=grouped_classes,data_source=data_source[i],main_dir=main_dir)\n",
    "\n"
   ]
  },
  {
   "cell_type": "code",
   "execution_count": null,
   "id": "dca2d1a6-2700-4e7b-b0fd-2bff54ab5a30",
   "metadata": {},
   "outputs": [],
   "source": []
  }
 ],
 "metadata": {
  "kernelspec": {
   "display_name": "Python 3",
   "language": "python",
   "name": "python3"
  },
  "language_info": {
   "codemirror_mode": {
    "name": "ipython",
    "version": 3
   },
   "file_extension": ".py",
   "mimetype": "text/x-python",
   "name": "python",
   "nbconvert_exporter": "python",
   "pygments_lexer": "ipython3",
   "version": "3.8.8"
  }
 },
 "nbformat": 4,
 "nbformat_minor": 5
}
